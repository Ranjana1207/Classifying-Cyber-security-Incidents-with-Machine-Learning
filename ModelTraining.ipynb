{
 "cells": [
  {
   "cell_type": "markdown",
   "metadata": {},
   "source": [
    "Logistic Regression"
   ]
  },
  {
   "cell_type": "code",
   "execution_count": 1,
   "metadata": {},
   "outputs": [
    {
     "name": "stderr",
     "output_type": "stream",
     "text": [
      "c:\\Users\\prem\\AppData\\Local\\Programs\\Python\\Python312\\Lib\\site-packages\\sklearn\\svm\\_base.py:1235: ConvergenceWarning: Liblinear failed to converge, increase the number of iterations.\n",
      "  warnings.warn(\n"
     ]
    },
    {
     "name": "stdout",
     "output_type": "stream",
     "text": [
      "Classification Report:\n",
      "              precision    recall  f1-score   support\n",
      "\n",
      "           0       0.63      0.66      0.65     11720\n",
      "           1       0.81      0.57      0.67     13464\n",
      "           2       0.94      0.97      0.96    126942\n",
      "\n",
      "    accuracy                           0.91    152126\n",
      "   macro avg       0.80      0.73      0.76    152126\n",
      "weighted avg       0.91      0.91      0.91    152126\n",
      "\n"
     ]
    },
    {
     "data": {
      "image/png": "[encoded data removed]",
      "text/plain": [
       "<Figure size 640x480 with 2 Axes>"
      ]
     },
     "metadata": {},
     "output_type": "display_data"
    }
   ],
   "source": [
    "import pandas as pd\n",
    "from sklearn.model_selection import train_test_split, GridSearchCV\n",
    "from sklearn.linear_model import LogisticRegression\n",
    "from sklearn.metrics import classification_report, confusion_matrix\n",
    "from sklearn.preprocessing import StandardScaler\n",
    "import seaborn as sns\n",
    "import matplotlib.pyplot as plt\n",
    "\n",
    "#load the data set\n",
    "df=pd.read_csv(r\"C:\\\\Users\\\\prem\\\\Desktop\\\\Ranjana\\\\4.Classifying Cybersecurity\\\\Cleaned_dataset\\\\Train_dataset.csv\")\n",
    "\n",
    "#Define features and traget variable\n",
    "X =df.drop(\"IncidentGrade\",axis=1)\n",
    "y =df[\"IncidentGrade\"]\n",
    "\n",
    "#split the dataset into traning and Validation sets\n",
    "X_train,X_val,y_train,y_val=train_test_split(X,y,test_size=0.2, random_state=42, stratify=y)\n",
    "\n",
    "#intialize logistic Regression\n",
    "logreg=LogisticRegression(C=100,penalty='l1', solver='liblinear')\n",
    "\n",
    "logreg=logreg.fit(X_train,y_train)\n",
    "\n",
    "#Evaluate the model on validation data\n",
    "y_pred= logreg.predict(X_val)\n",
    "\n",
    "print(\"Classification Report:\")\n",
    "print(classification_report(y_val, y_pred))\n",
    "\n",
    "cm = confusion_matrix(y_val, y_pred)\n",
    "sns.heatmap(cm, annot=True, fmt='d', cmap='Blues')\n",
    "plt.xlabel('Predicted')\n",
    "plt.ylabel('Actual')\n",
    "plt.title('Confusion Matrix')\n",
    "plt.show()"
   ]
  },
  {
   "cell_type": "markdown",
   "metadata": {},
   "source": [
    "Decision Tree"
   ]
  },
  {
   "cell_type": "code",
   "execution_count": 2,
   "metadata": {},
   "outputs": [
    {
     "name": "stdout",
     "output_type": "stream",
     "text": [
      "\n",
      "Classification Report:\n",
      "              precision    recall  f1-score   support\n",
      "\n",
      "           0       0.76      0.88      0.82     11720\n",
      "           1       0.91      0.87      0.89     13464\n",
      "           2       0.99      0.98      0.98    126942\n",
      "\n",
      "    accuracy                           0.96    152126\n",
      "   macro avg       0.89      0.91      0.90    152126\n",
      "weighted avg       0.97      0.96      0.96    152126\n",
      "\n",
      "Confusion Matrix:\n",
      "[[ 10361    670    689]\n",
      " [  1156  11778    530]\n",
      " [  2029    557 124356]]\n"
     ]
    }
   ],
   "source": [
    "import pandas as pd\n",
    "from sklearn.model_selection import train_test_split, RandomizedSearchCV\n",
    "from sklearn.tree import DecisionTreeClassifier\n",
    "from sklearn.metrics import classification_report, confusion_matrix\n",
    "from sklearn.preprocessing import StandardScaler\n",
    "from scipy.stats import randint\n",
    "\n",
    "#load the data set\n",
    "df=pd.read_csv(r\"C:\\\\Users\\\\prem\\\\Desktop\\\\Ranjana\\\\4.Classifying Cybersecurity\\\\Cleaned_dataset\\\\Train_dataset.csv\")\n",
    "\n",
    "#Define features and traget variable\n",
    "X =df.drop(\"IncidentGrade\",axis=1)\n",
    "y =df[\"IncidentGrade\"]\n",
    "\n",
    "#split the dataset into traning and Validation sets\n",
    "X_train,X_val,y_train,y_val=train_test_split(X,y,test_size=0.2, random_state=42, stratify=y)\n",
    "\n",
    "#Initialize Decision Tree Classifier\n",
    "\n",
    "dtree= DecisionTreeClassifier(criterion=\"gini\",splitter='best', max_depth= 20, min_samples_split=4, min_samples_leaf=1, \n",
    "                               max_features= 'log2', random_state=42)\n",
    "\n",
    "# Evaluate the model on validation data\n",
    "dtree = dtree.fit(X_train,y_train)\n",
    "\n",
    "y_pred = dtree.predict(X_val)\n",
    "print(\"\\nClassification Report:\")\n",
    "print(classification_report(y_val, y_pred))\n",
    "print(\"Confusion Matrix:\")\n",
    "print(confusion_matrix(y_val, y_pred))\n",
    "\n"
   ]
  },
  {
   "cell_type": "markdown",
   "metadata": {},
   "source": [
    "Random Forest Classifier"
   ]
  },
  {
   "cell_type": "code",
   "execution_count": 3,
   "metadata": {},
   "outputs": [
    {
     "name": "stdout",
     "output_type": "stream",
     "text": [
      "\n",
      "Classification Report:\n",
      "              precision    recall  f1-score   support\n",
      "\n",
      "           0       0.97      0.97      0.97     11720\n",
      "           1       0.97      0.98      0.97     13464\n",
      "           2       1.00      1.00      1.00    126942\n",
      "\n",
      "    accuracy                           0.99    152126\n",
      "   macro avg       0.98      0.98      0.98    152126\n",
      "weighted avg       0.99      0.99      0.99    152126\n",
      "\n",
      "Confusion Matrix:\n",
      "[[ 11418    216     86]\n",
      " [   183  13141    140]\n",
      " [   117    169 126656]]\n"
     ]
    }
   ],
   "source": [
    "import pandas as pd\n",
    "from sklearn.ensemble import RandomForestClassifier\n",
    "from sklearn.model_selection import train_test_split, RandomizedSearchCV ,StratifiedKFold\n",
    "from sklearn.metrics import classification_report, confusion_matrix\n",
    "from scipy.stats import randint\n",
    "\n",
    "#load the data set\n",
    "df=pd.read_csv(r\"C:\\\\Users\\\\prem\\\\Desktop\\\\Ranjana\\\\4.Classifying Cybersecurity\\\\Cleaned_dataset\\\\Train_dataset.csv\")\n",
    "\n",
    "#Define features and traget variable\n",
    "X =df.drop(\"IncidentGrade\",axis=1)\n",
    "y =df[\"IncidentGrade\"]\n",
    "\n",
    "#split the dataset into traning and Validation sets\n",
    "X_train,X_val,y_train,y_val=train_test_split(X,y,test_size=0.2, random_state=42, stratify=y)\n",
    "\n",
    "# Initialize Random Forest Classifier \n",
    "rf = RandomForestClassifier(n_estimators = 200, min_samples_split = 2, min_samples_leaf = 1, max_features = None, max_depth = 30, \n",
    "                            bootstrap = True, random_state=42)\n",
    "\n",
    "rf = rf.fit(X_train,y_train)\n",
    "# Evaluate the best model on validation data\n",
    "y_pred = rf.predict(X_val)\n",
    "\n",
    "# Print results\n",
    "print(\"\\nClassification Report:\")\n",
    "print(classification_report(y_val, y_pred))\n",
    "print(\"Confusion Matrix:\")\n",
    "print(confusion_matrix(y_val, y_pred))\n"
   ]
  },
  {
   "cell_type": "markdown",
   "metadata": {},
   "source": [
    "Gradient Boosting Machines - XGBoost"
   ]
  },
  {
   "cell_type": "code",
   "execution_count": 4,
   "metadata": {},
   "outputs": [
    {
     "name": "stderr",
     "output_type": "stream",
     "text": [
      "c:\\Users\\prem\\AppData\\Local\\Programs\\Python\\Python312\\Lib\\site-packages\\xgboost\\core.py:158: UserWarning: [22:00:22] WARNING: C:\\buildkite-agent\\builds\\buildkite-windows-cpu-autoscaling-group-i-0015a694724fa8361-1\\xgboost\\xgboost-ci-windows\\src\\learner.cc:740: \n",
      "Parameters: { \"use_label_encoder\" } are not used.\n",
      "\n",
      "  warnings.warn(smsg, UserWarning)\n"
     ]
    },
    {
     "name": "stdout",
     "output_type": "stream",
     "text": [
      "Classification Report:\n",
      "              precision    recall  f1-score   support\n",
      "\n",
      "           0       0.94      0.95      0.95     11720\n",
      "           1       0.96      0.97      0.96     13464\n",
      "           2       1.00      1.00      1.00    126942\n",
      "\n",
      "    accuracy                           0.99    152126\n",
      "   macro avg       0.97      0.97      0.97    152126\n",
      "weighted avg       0.99      0.99      0.99    152126\n",
      "\n",
      "Confusion Matrix:\n",
      "[[ 11118    344    258]\n",
      " [   280  13001    183]\n",
      " [   404    206 126332]]\n"
     ]
    }
   ],
   "source": [
    "import pandas as pd\n",
    "import xgboost as xgb\n",
    "from sklearn.model_selection import RandomizedSearchCV, StratifiedKFold, train_test_split\n",
    "from sklearn.metrics import classification_report, confusion_matrix\n",
    "from functools import partial\n",
    "\n",
    "#load the data set\n",
    "df=pd.read_csv(r\"C:\\\\Users\\\\prem\\\\Desktop\\\\Ranjana\\\\4.Classifying Cybersecurity\\\\Cleaned_dataset\\\\Train_dataset.csv\")\n",
    "\n",
    "#Define features and traget variable\n",
    "X =df.drop(\"IncidentGrade\",axis=1)\n",
    "y =df[\"IncidentGrade\"]\n",
    "\n",
    "#split the dataset into traning and Validation sets\n",
    "X_train,X_val,y_train,y_val=train_test_split(X,y,test_size=0.2, random_state=42, stratify=y)\n",
    "\n",
    "# Initialize XGBoost Classifier\n",
    "xgb = xgb.XGBClassifier(subsample = 0.8, n_estimators = 200, max_depth = 9, learning_rate = 0.2, colsample_bytree = 1.0,\n",
    "                        random_state=42, use_label_encoder=False, eval_metric='logloss')\n",
    "\n",
    "xgb = xgb.fit(X_train,y_train)\n",
    "# Evaluate the model on validation data\n",
    "y_pred = xgb.predict(X_val)\n",
    "\n",
    "# Print the evaluation results\n",
    "print(\"Classification Report:\")\n",
    "print(classification_report(y_val, y_pred))\n",
    "print(\"Confusion Matrix:\")\n",
    "print(confusion_matrix(y_val, y_pred))"
   ]
  },
  {
   "cell_type": "code",
   "execution_count": 5,
   "metadata": {},
   "outputs": [
    {
     "name": "stdout",
     "output_type": "stream",
     "text": [
      "Comparison Table:\n",
      "              Model  Accuracy  Macro-F1 Score  Precision  Recall\n",
      "Logistic Regression      0.91            0.76       0.80    0.73\n",
      "      Decision Tree      0.96            0.90       0.89    0.91\n",
      "      Random Forest      0.99            0.98       0.98    0.98\n",
      "            XGBoost      0.99            0.97       0.97    0.97\n",
      "\n",
      "Best Model Based on Macro-F1 Score:\n",
      "Model             Random Forest\n",
      "Accuracy                   0.99\n",
      "Macro-F1 Score             0.98\n",
      "Precision                  0.98\n",
      "Recall                     0.98\n",
      "Name: 2, dtype: object\n"
     ]
    }
   ],
   "source": [
    "import pandas as pd\n",
    "\n",
    "report = {\n",
    "    'Model': ['Logistic Regression', 'Decision Tree', 'Random Forest', 'XGBoost'],\n",
    "    'Accuracy':[0.91,0.96,0.99,0.99],\n",
    "    'Macro-F1 Score':[ 0.76, 0.90, 0.98, 0.97],\n",
    "    'Precision': [0.80,0.89,0.98,0.97],\n",
    "    'Recall': [0.73,0.91,0.98 ,0.97]\n",
    "}\n",
    "\n",
    "# Convert to DataFrame\n",
    "df = pd.DataFrame(report)\n",
    "\n",
    "# Print comparison table\n",
    "print(\"Comparison Table:\")\n",
    "print(df.to_string(index=False))\n",
    "\n",
    "# Find the best model based on Macro-F1 Score\n",
    "best_model = df.loc[df['Macro-F1 Score'].idxmax()]\n",
    "\n",
    "# Print the best model\n",
    "print(\"\\nBest Model Based on Macro-F1 Score:\")\n",
    "print(best_model)"
   ]
  },
  {
   "cell_type": "markdown",
   "metadata": {},
   "source": [
    "Feature Importance and Error Analysis"
   ]
  },
  {
   "cell_type": "code",
   "execution_count": 6,
   "metadata": {},
   "outputs": [
    {
     "data": {
      "image/png": "[encoded data removed]",
      "text/plain": [
       "<Figure size 1000x600 with 1 Axes>"
      ]
     },
     "metadata": {},
     "output_type": "display_data"
    },
    {
     "name": "stdout",
     "output_type": "stream",
     "text": [
      "                   Id  OrgId  IncidentId  AlertId  DetectorId  AlertTitle  \\\n",
      "396217   618475294502    239       89766  1233895           7    0.013667   \n",
      "385613  1236950582357     56      127937   119184           6    0.011390   \n",
      "416218  1236950582027    350       35994   239468           1    0.002278   \n",
      "168089   412316863583     33       37760   303741           6    0.011390   \n",
      "546508   670014900299    221       49462   448805           6    0.011390   \n",
      "\n",
      "        Category  EntityType  EvidenceRole  DeviceId  ...  ResourceIdName  \\\n",
      "396217         5           0             1     98799  ...            3586   \n",
      "385613         5           5             1     98799  ...            3586   \n",
      "416218         5           5             1     98799  ...            3586   \n",
      "168089         5           5             1     98799  ...            3586   \n",
      "546508         5           5             1     98799  ...            3586   \n",
      "\n",
      "        OSFamily  OSVersion  CountryCode  State   City  Year     Month  \\\n",
      "396217         5         66          242   1445  10630   1.0  0.454545   \n",
      "385613         5         66          242   1445  10630   1.0  0.454545   \n",
      "416218         5         66          242   1445  10630   1.0  0.454545   \n",
      "168089         5         66          242   1445  10630   1.0  0.454545   \n",
      "546508         5         66          242   1445  10630   1.0  0.454545   \n",
      "\n",
      "        DayOfWeek      Hour  \n",
      "396217   0.500000  1.000000  \n",
      "385613   0.166667  0.347826  \n",
      "416218   0.500000  0.173913  \n",
      "168089   0.166667  0.782609  \n",
      "546508   0.666667  0.565217  \n",
      "\n",
      "[5 rows x 37 columns]\n",
      "Classification Report:\n",
      "              precision    recall  f1-score   support\n",
      "\n",
      "           0       0.94      0.95      0.95     11720\n",
      "           1       0.96      0.97      0.96     13464\n",
      "           2       1.00      1.00      1.00    126942\n",
      "\n",
      "    accuracy                           0.99    152126\n",
      "   macro avg       0.97      0.97      0.97    152126\n",
      "weighted avg       0.99      0.99      0.99    152126\n",
      "\n",
      "Confusion Matrix:\n",
      "[[ 11118    344    258]\n",
      " [   280  13001    183]\n",
      " [   404    206 126332]]\n"
     ]
    }
   ],
   "source": [
    "import matplotlib.pyplot as plt\n",
    "import pandas as pd\n",
    "from sklearn.metrics import classification_report, confusion_matrix\n",
    "\n",
    "# Get feature importances from the best Random Forest model\n",
    "importances = rf.feature_importances_\n",
    "\n",
    "features = X.columns\n",
    "feature_importance_df = pd.DataFrame({'Feature': features, 'Importance': importances})\n",
    "\n",
    "top_10_features = feature_importance_df.sort_values(by='Importance', ascending=False).head(10)\n",
    "\n",
    "# Plot feature importance for top 10 features\n",
    "plt.figure(figsize=(10, 6))\n",
    "plt.barh(top_10_features['Feature'], top_10_features['Importance'])\n",
    "plt.xlabel('Feature Importance')\n",
    "plt.ylabel('Features')\n",
    "plt.title('Top 10 Important Features for Random Forest')\n",
    "plt.gca().invert_yaxis()  # Invert y-axis to display highest importance at the top\n",
    "plt.show()\n",
    "\n",
    "# Identify misclassified samples\n",
    "misclassified_idx = (y_val != y_pred)\n",
    "\n",
    "# Extract the misclassified samples\n",
    "misclassified_samples = X_val[misclassified_idx].copy()\n",
    "\n",
    "# Display the first 5 misclassified samples\n",
    "print(misclassified_samples.head(5))\n",
    "\n",
    "# Evaluate the model's predictions\n",
    "print(\"Classification Report:\")\n",
    "print(classification_report(y_val, y_pred))\n",
    "print(\"Confusion Matrix:\")\n",
    "print(confusion_matrix(y_val, y_pred))"
   ]
  },
  {
   "cell_type": "markdown",
   "metadata": {},
   "source": [
    "Saving the Best Model"
   ]
  },
  {
   "cell_type": "code",
   "execution_count": 1,
   "metadata": {},
   "outputs": [
    {
     "name": "stdout",
     "output_type": "stream",
     "text": [
      "Classification Report:\n",
      "              precision    recall  f1-score   support\n",
      "\n",
      "           0       0.89      0.96      0.93     11720\n",
      "           1       0.95      0.96      0.96     13464\n",
      "           2       1.00      0.99      0.99    126942\n",
      "\n",
      "    accuracy                           0.99    152126\n",
      "   macro avg       0.95      0.97      0.96    152126\n",
      "weighted avg       0.99      0.99      0.99    152126\n",
      "\n",
      "Confusion Matrix:\n",
      "[[ 11271    373     76]\n",
      " [   425  12940     99]\n",
      " [   923    305 125714]]\n",
      "Model saved to C:\\\\Users\\\\prem\\\\Desktop\\\\Ranjana\\\\4.Classifying Cybersecurity\\\\BestModel.pkl\n"
     ]
    }
   ],
   "source": [
    "import pandas as pd\n",
    "from sklearn.ensemble import RandomForestClassifier\n",
    "from sklearn.model_selection import train_test_split, RandomizedSearchCV ,StratifiedKFold\n",
    "from sklearn.metrics import classification_report, confusion_matrix\n",
    "from scipy.stats import randint\n",
    "from imblearn.over_sampling import SMOTE\n",
    "from joblib import dump\n",
    "from imblearn.pipeline import Pipeline\n",
    "\n",
    "#load the data set\n",
    "df=pd.read_csv(r\"C:\\\\Users\\\\prem\\\\Desktop\\\\Ranjana\\\\4.Classifying Cybersecurity\\\\Cleaned_dataset\\\\Train_dataset.csv\")\n",
    "\n",
    "#Define features and traget variable\n",
    "X =df.drop(\"IncidentGrade\",axis=1)\n",
    "y =df[\"IncidentGrade\"]\n",
    "\n",
    "#split the dataset into traning and Validation sets\n",
    "X_train,X_val,y_train,y_val=train_test_split(X,y,test_size=0.2, random_state=42, stratify=y)\n",
    "\n",
    "# Apply SMOTE to the training data for class imbalance\n",
    "smote = SMOTE(random_state=42)\n",
    "\n",
    "# Initialize Random Forest Classifier \n",
    "rf = RandomForestClassifier(n_estimators = 200, min_samples_split = 2, min_samples_leaf = 1, max_features = None, max_depth = 30, \n",
    "                            bootstrap = True, random_state=42)\n",
    "\n",
    "# Create the Pipeline\n",
    "pipeline = Pipeline(steps=[\n",
    "    ('smote', smote),\n",
    "    ('classifier', rf)\n",
    "])\n",
    "\n",
    "# Fit the Pipeline\n",
    "pipeline.fit(X_train, y_train)\n",
    "\n",
    "# Evaluate the best model on validation data\n",
    "y_pred = pipeline.predict(X_val)\n",
    "\n",
    "# Print results\n",
    "print(\"Classification Report:\")\n",
    "print(classification_report(y_val, y_pred))\n",
    "print(\"Confusion Matrix:\")\n",
    "print(confusion_matrix(y_val, y_pred))\n",
    "\n",
    "# Save the best model to a pickle file\n",
    "model_path = r\"C:\\\\Users\\\\prem\\\\Desktop\\\\Ranjana\\\\4.Classifying Cybersecurity\\\\BestModel.pkl\"\n",
    "dump(rf, model_path)\n",
    "print(f\"Model saved to {model_path}\")\n"
   ]
  },
  {
   "cell_type": "markdown",
   "metadata": {},
   "source": [
    "Evaluation of Selected Random Forest Model on Test Data"
   ]
  },
  {
   "cell_type": "code",
   "execution_count": 2,
   "metadata": {},
   "outputs": [
    {
     "name": "stdout",
     "output_type": "stream",
     "text": [
      "\n",
      " Classification Report on Test Data\n",
      "              precision    recall  f1-score   support\n",
      "\n",
      "           0       0.62      0.92      0.74     20558\n",
      "           1       0.56      0.72      0.63     16162\n",
      "           2       1.00      0.93      0.96    216503\n",
      "\n",
      "    accuracy                           0.92    253223\n",
      "   macro avg       0.73      0.86      0.78    253223\n",
      "weighted avg       0.94      0.92      0.92    253223\n",
      "\n",
      "Exracted report\n",
      "\n",
      "Macro-F1 Score: 0.78\n",
      "Macro Precision: 0.73\n",
      "Macro Recall: 0.86\n",
      "\n",
      "Confusion Matrix on Test Data:\n",
      "[[ 18900   1388    270]\n",
      " [  3739  11693    730]\n",
      " [  7668   7722 201113]]\n"
     ]
    }
   ],
   "source": [
    "import pandas as pd\n",
    "from joblib import load\n",
    "from sklearn.metrics import classification_report, confusion_matrix, f1_score, precision_score, recall_score\n",
    "\n",
    "#load the best model\n",
    "model_path=r\"C:\\\\Users\\\\prem\\\\Desktop\\\\Ranjana\\\\4.Classifying Cybersecurity\\\\BestModel.pkl\"\n",
    "best_rf=load(model_path)\n",
    "\n",
    "#load the test dataset\n",
    "test_data_path=r\"C:\\\\Users\\\\prem\\\\Desktop\\\\Ranjana\\\\4.Classifying Cybersecurity\\\\Cleaned_dataset\\\\Test_dataset.csv\"\n",
    "test_df=pd.read_csv(test_data_path)\n",
    "\n",
    "#seperate features and target\n",
    "X_test=test_df.drop(\"IncidentGrade\",axis=1)\n",
    "y_test=test_df[\"IncidentGrade\"]\n",
    "\n",
    "#Make Prediction\n",
    "y_test_pred= best_rf.predict(X_test)\n",
    "\n",
    "#Evaluate the model on the test set\n",
    "print(\"\\n Classification Report on Test Data\")\n",
    "report=classification_report(y_test,y_test_pred,output_dict=True)\n",
    "print(classification_report(y_test,y_test_pred))\n",
    "\n",
    "## Extract macro-F1 score, precision, and recall from the report\n",
    "\n",
    "macro_f1=report[\"macro avg\"][\"f1-score\"]\n",
    "macro_precision=report[\"macro avg\"][\"precision\"]\n",
    "macro_recall=report[\"macro avg\"][\"recall\"]\n",
    "\n",
    "print(\"Exracted report\")\n",
    "print(\"\\nMacro-F1 Score: {:.2f}\".format(macro_f1))\n",
    "print(\"Macro Precision: {:.2f}\".format(macro_precision))\n",
    "print(\"Macro Recall: {:.2f}\".format(macro_recall))\n",
    "\n",
    "# Confusion Matrix\n",
    "print(\"\\nConfusion Matrix on Test Data:\")\n",
    "print(confusion_matrix(y_test, y_test_pred))"
   ]
  }
 ],
 "metadata": {
  "kernelspec": {
   "display_name": "Python 3",
   "language": "python",
   "name": "python3"
  },
  "language_info": {
   "codemirror_mode": {
    "name": "ipython",
    "version": 3
   },
   "file_extension": ".py",
   "mimetype": "text/x-python",
   "name": "python",
   "nbconvert_exporter": "python",
   "pygments_lexer": "ipython3",
   "version": "3.12.5"
  }
 },
 "nbformat": 4,
 "nbformat_minor": 2
}
