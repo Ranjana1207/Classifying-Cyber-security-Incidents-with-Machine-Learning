{
 "cells": [
  {
   "cell_type": "code",
   "execution_count": 1,
   "metadata": {},
   "outputs": [],
   "source": [
    "import pandas as pd\n",
    "from sklearn.preprocessing import LabelEncoder,OneHotEncoder\n",
    "from sklearn.metrics import accuracy_score,r2_score,f1_score\n",
    "from sklearn.linear_model import LogisticRegression\n",
    "from sklearn.tree import DecisionTreeClassifier\n",
    "import matplotlib.pyplot as plt\n",
    "import seaborn as sns\n",
    "import pandas as pd\n",
    "from imblearn.over_sampling import SMOTE\n",
    "import numpy as np"
   ]
  },
  {
   "cell_type": "code",
   "execution_count": 2,
   "metadata": {},
   "outputs": [],
   "source": [
    "train_df=pd.read_csv(\"C:\\\\Users\\\\prem\\\\Desktop\\\\Ranjana\\\\4.Classifying Cybersecurity\\\\GUIDE_Train.csv\")\n",
    "test_df=pd.read_csv(\"C:\\\\Users\\\\prem\\\\Desktop\\\\Ranjana\\\\4.Classifying Cybersecurity\\\\GUIDE_Test.csv\")"
   ]
  },
  {
   "cell_type": "code",
   "execution_count": 3,
   "metadata": {},
   "outputs": [
    {
     "name": "stdout",
     "output_type": "stream",
     "text": [
      "<class 'pandas.core.frame.DataFrame'>\n",
      "RangeIndex: 9516837 entries, 0 to 9516836\n",
      "Data columns (total 45 columns):\n",
      " #   Column              Dtype  \n",
      "---  ------              -----  \n",
      " 0   Id                  int64  \n",
      " 1   OrgId               int64  \n",
      " 2   IncidentId          int64  \n",
      " 3   AlertId             int64  \n",
      " 4   Timestamp           object \n",
      " 5   DetectorId          int64  \n",
      " 6   AlertTitle          int64  \n",
      " 7   Category            object \n",
      " 8   MitreTechniques     object \n",
      " 9   IncidentGrade       object \n",
      " 10  ActionGrouped       object \n",
      " 11  ActionGranular      object \n",
      " 12  EntityType          object \n",
      " 13  EvidenceRole        object \n",
      " 14  DeviceId            int64  \n",
      " 15  Sha256              int64  \n",
      " 16  IpAddress           int64  \n",
      " 17  Url                 int64  \n",
      " 18  AccountSid          int64  \n",
      " 19  AccountUpn          int64  \n",
      " 20  AccountObjectId     int64  \n",
      " 21  AccountName         int64  \n",
      " 22  DeviceName          int64  \n",
      " 23  NetworkMessageId    int64  \n",
      " 24  EmailClusterId      float64\n",
      " 25  RegistryKey         int64  \n",
      " 26  RegistryValueName   int64  \n",
      " 27  RegistryValueData   int64  \n",
      " 28  ApplicationId       int64  \n",
      " 29  ApplicationName     int64  \n",
      " 30  OAuthApplicationId  int64  \n",
      " 31  ThreatFamily        object \n",
      " 32  FileName            int64  \n",
      " 33  FolderPath          int64  \n",
      " 34  ResourceIdName      int64  \n",
      " 35  ResourceType        object \n",
      " 36  Roles               object \n",
      " 37  OSFamily            int64  \n",
      " 38  OSVersion           int64  \n",
      " 39  AntispamDirection   object \n",
      " 40  SuspicionLevel      object \n",
      " 41  LastVerdict         object \n",
      " 42  CountryCode         int64  \n",
      " 43  State               int64  \n",
      " 44  City                int64  \n",
      "dtypes: float64(1), int64(30), object(14)\n",
      "memory usage: 3.2+ GB\n"
     ]
    }
   ],
   "source": [
    "train_df.info()"
   ]
  },
  {
   "cell_type": "code",
   "execution_count": 4,
   "metadata": {},
   "outputs": [
    {
     "name": "stdout",
     "output_type": "stream",
     "text": [
      "<class 'pandas.core.frame.DataFrame'>\n",
      "RangeIndex: 2930207 entries, 0 to 2930206\n",
      "Data columns (total 46 columns):\n",
      " #   Column              Dtype  \n",
      "---  ------              -----  \n",
      " 0   Id                  int64  \n",
      " 1   OrgId               float64\n",
      " 2   IncidentId          float64\n",
      " 3   AlertId             float64\n",
      " 4   Timestamp           object \n",
      " 5   DetectorId          float64\n",
      " 6   AlertTitle          float64\n",
      " 7   Category            object \n",
      " 8   MitreTechniques     object \n",
      " 9   IncidentGrade       object \n",
      " 10  ActionGrouped       object \n",
      " 11  ActionGranular      object \n",
      " 12  EntityType          object \n",
      " 13  EvidenceRole        object \n",
      " 14  DeviceId            float64\n",
      " 15  Sha256              float64\n",
      " 16  IpAddress           float64\n",
      " 17  Url                 float64\n",
      " 18  AccountSid          float64\n",
      " 19  AccountUpn          float64\n",
      " 20  AccountObjectId     float64\n",
      " 21  AccountName         float64\n",
      " 22  DeviceName          float64\n",
      " 23  NetworkMessageId    float64\n",
      " 24  EmailClusterId      float64\n",
      " 25  RegistryKey         float64\n",
      " 26  RegistryValueName   float64\n",
      " 27  RegistryValueData   float64\n",
      " 28  ApplicationId       float64\n",
      " 29  ApplicationName     float64\n",
      " 30  OAuthApplicationId  float64\n",
      " 31  ThreatFamily        object \n",
      " 32  FileName            float64\n",
      " 33  FolderPath          float64\n",
      " 34  ResourceIdName      float64\n",
      " 35  ResourceType        object \n",
      " 36  Roles               object \n",
      " 37  OSFamily            float64\n",
      " 38  OSVersion           float64\n",
      " 39  AntispamDirection   object \n",
      " 40  SuspicionLevel      object \n",
      " 41  LastVerdict         object \n",
      " 42  CountryCode         float64\n",
      " 43  State               float64\n",
      " 44  City                float64\n",
      " 45  Usage               object \n",
      "dtypes: float64(30), int64(1), object(15)\n",
      "memory usage: 1.0+ GB\n"
     ]
    }
   ],
   "source": [
    "test_df.info()"
   ]
  },
  {
   "cell_type": "code",
   "execution_count": 5,
   "metadata": {},
   "outputs": [
    {
     "data": {
      "text/plain": [
       "(2930207, 46)"
      ]
     },
     "execution_count": 5,
     "metadata": {},
     "output_type": "execute_result"
    }
   ],
   "source": [
    "test_df.shape"
   ]
  },
  {
   "cell_type": "code",
   "execution_count": 6,
   "metadata": {},
   "outputs": [
    {
     "data": {
      "text/html": [
       "<div>\n",
       "<style scoped>\n",
       "    .dataframe tbody tr th:only-of-type {\n",
       "        vertical-align: middle;\n",
       "    }\n",
       "\n",
       "    .dataframe tbody tr th {\n",
       "        vertical-align: top;\n",
       "    }\n",
       "\n",
       "    .dataframe thead th {\n",
       "        text-align: right;\n",
       "    }\n",
       "</style>\n",
       "<table border=\"1\" class=\"dataframe\">\n",
       "  <thead>\n",
       "    <tr style=\"text-align: right;\">\n",
       "      <th></th>\n",
       "      <th>Id</th>\n",
       "      <th>OrgId</th>\n",
       "      <th>IncidentId</th>\n",
       "      <th>AlertId</th>\n",
       "      <th>Timestamp</th>\n",
       "      <th>DetectorId</th>\n",
       "      <th>AlertTitle</th>\n",
       "      <th>Category</th>\n",
       "      <th>MitreTechniques</th>\n",
       "      <th>IncidentGrade</th>\n",
       "      <th>...</th>\n",
       "      <th>Roles</th>\n",
       "      <th>OSFamily</th>\n",
       "      <th>OSVersion</th>\n",
       "      <th>AntispamDirection</th>\n",
       "      <th>SuspicionLevel</th>\n",
       "      <th>LastVerdict</th>\n",
       "      <th>CountryCode</th>\n",
       "      <th>State</th>\n",
       "      <th>City</th>\n",
       "      <th>Usage</th>\n",
       "    </tr>\n",
       "  </thead>\n",
       "  <tbody>\n",
       "    <tr>\n",
       "      <th>0</th>\n",
       "      <td>1245540519230</td>\n",
       "      <td>657.0</td>\n",
       "      <td>11767.0</td>\n",
       "      <td>87199.0</td>\n",
       "      <td>2024-06-04T22:56:27.000Z</td>\n",
       "      <td>524.0</td>\n",
       "      <td>563.0</td>\n",
       "      <td>LateralMovement</td>\n",
       "      <td>T1021;T1047;T1105;T1569.002</td>\n",
       "      <td>BenignPositive</td>\n",
       "      <td>...</td>\n",
       "      <td>NaN</td>\n",
       "      <td>5.0</td>\n",
       "      <td>66.0</td>\n",
       "      <td>NaN</td>\n",
       "      <td>Suspicious</td>\n",
       "      <td>Suspicious</td>\n",
       "      <td>242.0</td>\n",
       "      <td>1445.0</td>\n",
       "      <td>10630.0</td>\n",
       "      <td>Private</td>\n",
       "    </tr>\n",
       "    <tr>\n",
       "      <th>1</th>\n",
       "      <td>1400159342154</td>\n",
       "      <td>3.0</td>\n",
       "      <td>91158.0</td>\n",
       "      <td>632273.0</td>\n",
       "      <td>2024-06-03T12:58:26.000Z</td>\n",
       "      <td>2.0</td>\n",
       "      <td>2.0</td>\n",
       "      <td>CommandAndControl</td>\n",
       "      <td>NaN</td>\n",
       "      <td>BenignPositive</td>\n",
       "      <td>...</td>\n",
       "      <td>NaN</td>\n",
       "      <td>0.0</td>\n",
       "      <td>0.0</td>\n",
       "      <td>NaN</td>\n",
       "      <td>Suspicious</td>\n",
       "      <td>Suspicious</td>\n",
       "      <td>242.0</td>\n",
       "      <td>1445.0</td>\n",
       "      <td>10630.0</td>\n",
       "      <td>Public</td>\n",
       "    </tr>\n",
       "    <tr>\n",
       "      <th>2</th>\n",
       "      <td>1279900255923</td>\n",
       "      <td>145.0</td>\n",
       "      <td>32247.0</td>\n",
       "      <td>131719.0</td>\n",
       "      <td>2024-06-08T03:20:49.000Z</td>\n",
       "      <td>2932.0</td>\n",
       "      <td>10807.0</td>\n",
       "      <td>LateralMovement</td>\n",
       "      <td>T1021;T1027.002;T1027.005;T1105</td>\n",
       "      <td>BenignPositive</td>\n",
       "      <td>...</td>\n",
       "      <td>NaN</td>\n",
       "      <td>5.0</td>\n",
       "      <td>66.0</td>\n",
       "      <td>NaN</td>\n",
       "      <td>Suspicious</td>\n",
       "      <td>Suspicious</td>\n",
       "      <td>242.0</td>\n",
       "      <td>1445.0</td>\n",
       "      <td>10630.0</td>\n",
       "      <td>Public</td>\n",
       "    </tr>\n",
       "    <tr>\n",
       "      <th>3</th>\n",
       "      <td>60129547292</td>\n",
       "      <td>222.0</td>\n",
       "      <td>15294.0</td>\n",
       "      <td>917686.0</td>\n",
       "      <td>2024-06-12T12:07:31.000Z</td>\n",
       "      <td>0.0</td>\n",
       "      <td>0.0</td>\n",
       "      <td>InitialAccess</td>\n",
       "      <td>T1078;T1078.004</td>\n",
       "      <td>FalsePositive</td>\n",
       "      <td>...</td>\n",
       "      <td>NaN</td>\n",
       "      <td>5.0</td>\n",
       "      <td>66.0</td>\n",
       "      <td>NaN</td>\n",
       "      <td>NaN</td>\n",
       "      <td>NaN</td>\n",
       "      <td>242.0</td>\n",
       "      <td>1445.0</td>\n",
       "      <td>10630.0</td>\n",
       "      <td>Public</td>\n",
       "    </tr>\n",
       "    <tr>\n",
       "      <th>4</th>\n",
       "      <td>515396080539</td>\n",
       "      <td>363.0</td>\n",
       "      <td>7615.0</td>\n",
       "      <td>5944.0</td>\n",
       "      <td>2024-06-06T17:42:05.000Z</td>\n",
       "      <td>27.0</td>\n",
       "      <td>18.0</td>\n",
       "      <td>Discovery</td>\n",
       "      <td>T1087;T1087.002</td>\n",
       "      <td>BenignPositive</td>\n",
       "      <td>...</td>\n",
       "      <td>Suspicious</td>\n",
       "      <td>5.0</td>\n",
       "      <td>66.0</td>\n",
       "      <td>NaN</td>\n",
       "      <td>NaN</td>\n",
       "      <td>NaN</td>\n",
       "      <td>242.0</td>\n",
       "      <td>1445.0</td>\n",
       "      <td>10630.0</td>\n",
       "      <td>Public</td>\n",
       "    </tr>\n",
       "  </tbody>\n",
       "</table>\n",
       "<p>5 rows × 46 columns</p>\n",
       "</div>"
      ],
      "text/plain": [
       "              Id  OrgId  IncidentId   AlertId                 Timestamp  \\\n",
       "0  1245540519230  657.0     11767.0   87199.0  2024-06-04T22:56:27.000Z   \n",
       "1  1400159342154    3.0     91158.0  632273.0  2024-06-03T12:58:26.000Z   \n",
       "2  1279900255923  145.0     32247.0  131719.0  2024-06-08T03:20:49.000Z   \n",
       "3    60129547292  222.0     15294.0  917686.0  2024-06-12T12:07:31.000Z   \n",
       "4   515396080539  363.0      7615.0    5944.0  2024-06-06T17:42:05.000Z   \n",
       "\n",
       "   DetectorId  AlertTitle           Category                  MitreTechniques  \\\n",
       "0       524.0       563.0    LateralMovement      T1021;T1047;T1105;T1569.002   \n",
       "1         2.0         2.0  CommandAndControl                              NaN   \n",
       "2      2932.0     10807.0    LateralMovement  T1021;T1027.002;T1027.005;T1105   \n",
       "3         0.0         0.0      InitialAccess                  T1078;T1078.004   \n",
       "4        27.0        18.0          Discovery                  T1087;T1087.002   \n",
       "\n",
       "    IncidentGrade  ...       Roles OSFamily OSVersion AntispamDirection  \\\n",
       "0  BenignPositive  ...         NaN      5.0      66.0               NaN   \n",
       "1  BenignPositive  ...         NaN      0.0       0.0               NaN   \n",
       "2  BenignPositive  ...         NaN      5.0      66.0               NaN   \n",
       "3   FalsePositive  ...         NaN      5.0      66.0               NaN   \n",
       "4  BenignPositive  ...  Suspicious      5.0      66.0               NaN   \n",
       "\n",
       "   SuspicionLevel  LastVerdict  CountryCode   State     City    Usage  \n",
       "0      Suspicious   Suspicious        242.0  1445.0  10630.0  Private  \n",
       "1      Suspicious   Suspicious        242.0  1445.0  10630.0   Public  \n",
       "2      Suspicious   Suspicious        242.0  1445.0  10630.0   Public  \n",
       "3             NaN          NaN        242.0  1445.0  10630.0   Public  \n",
       "4             NaN          NaN        242.0  1445.0  10630.0   Public  \n",
       "\n",
       "[5 rows x 46 columns]"
      ]
     },
     "execution_count": 6,
     "metadata": {},
     "output_type": "execute_result"
    }
   ],
   "source": [
    "test_df.head()"
   ]
  },
  {
   "cell_type": "code",
   "execution_count": 7,
   "metadata": {},
   "outputs": [
    {
     "data": {
      "text/plain": [
       "(9516837, 45)"
      ]
     },
     "execution_count": 7,
     "metadata": {},
     "output_type": "execute_result"
    }
   ],
   "source": [
    "train_df.shape"
   ]
  },
  {
   "cell_type": "code",
   "execution_count": 8,
   "metadata": {},
   "outputs": [
    {
     "data": {
      "text/html": [
       "<div>\n",
       "<style scoped>\n",
       "    .dataframe tbody tr th:only-of-type {\n",
       "        vertical-align: middle;\n",
       "    }\n",
       "\n",
       "    .dataframe tbody tr th {\n",
       "        vertical-align: top;\n",
       "    }\n",
       "\n",
       "    .dataframe thead th {\n",
       "        text-align: right;\n",
       "    }\n",
       "</style>\n",
       "<table border=\"1\" class=\"dataframe\">\n",
       "  <thead>\n",
       "    <tr style=\"text-align: right;\">\n",
       "      <th></th>\n",
       "      <th>Id</th>\n",
       "      <th>OrgId</th>\n",
       "      <th>IncidentId</th>\n",
       "      <th>AlertId</th>\n",
       "      <th>Timestamp</th>\n",
       "      <th>DetectorId</th>\n",
       "      <th>AlertTitle</th>\n",
       "      <th>Category</th>\n",
       "      <th>MitreTechniques</th>\n",
       "      <th>IncidentGrade</th>\n",
       "      <th>...</th>\n",
       "      <th>ResourceType</th>\n",
       "      <th>Roles</th>\n",
       "      <th>OSFamily</th>\n",
       "      <th>OSVersion</th>\n",
       "      <th>AntispamDirection</th>\n",
       "      <th>SuspicionLevel</th>\n",
       "      <th>LastVerdict</th>\n",
       "      <th>CountryCode</th>\n",
       "      <th>State</th>\n",
       "      <th>City</th>\n",
       "    </tr>\n",
       "  </thead>\n",
       "  <tbody>\n",
       "    <tr>\n",
       "      <th>0</th>\n",
       "      <td>180388628218</td>\n",
       "      <td>0</td>\n",
       "      <td>612</td>\n",
       "      <td>123247</td>\n",
       "      <td>2024-06-04T06:05:15.000Z</td>\n",
       "      <td>7</td>\n",
       "      <td>6</td>\n",
       "      <td>InitialAccess</td>\n",
       "      <td>NaN</td>\n",
       "      <td>TruePositive</td>\n",
       "      <td>...</td>\n",
       "      <td>NaN</td>\n",
       "      <td>NaN</td>\n",
       "      <td>5</td>\n",
       "      <td>66</td>\n",
       "      <td>NaN</td>\n",
       "      <td>NaN</td>\n",
       "      <td>NaN</td>\n",
       "      <td>31</td>\n",
       "      <td>6</td>\n",
       "      <td>3</td>\n",
       "    </tr>\n",
       "    <tr>\n",
       "      <th>1</th>\n",
       "      <td>455266534868</td>\n",
       "      <td>88</td>\n",
       "      <td>326</td>\n",
       "      <td>210035</td>\n",
       "      <td>2024-06-14T03:01:25.000Z</td>\n",
       "      <td>58</td>\n",
       "      <td>43</td>\n",
       "      <td>Exfiltration</td>\n",
       "      <td>NaN</td>\n",
       "      <td>FalsePositive</td>\n",
       "      <td>...</td>\n",
       "      <td>NaN</td>\n",
       "      <td>NaN</td>\n",
       "      <td>5</td>\n",
       "      <td>66</td>\n",
       "      <td>NaN</td>\n",
       "      <td>NaN</td>\n",
       "      <td>NaN</td>\n",
       "      <td>242</td>\n",
       "      <td>1445</td>\n",
       "      <td>10630</td>\n",
       "    </tr>\n",
       "    <tr>\n",
       "      <th>2</th>\n",
       "      <td>1056561957389</td>\n",
       "      <td>809</td>\n",
       "      <td>58352</td>\n",
       "      <td>712507</td>\n",
       "      <td>2024-06-13T04:52:55.000Z</td>\n",
       "      <td>423</td>\n",
       "      <td>298</td>\n",
       "      <td>InitialAccess</td>\n",
       "      <td>T1189</td>\n",
       "      <td>FalsePositive</td>\n",
       "      <td>...</td>\n",
       "      <td>NaN</td>\n",
       "      <td>NaN</td>\n",
       "      <td>5</td>\n",
       "      <td>66</td>\n",
       "      <td>NaN</td>\n",
       "      <td>Suspicious</td>\n",
       "      <td>Suspicious</td>\n",
       "      <td>242</td>\n",
       "      <td>1445</td>\n",
       "      <td>10630</td>\n",
       "    </tr>\n",
       "    <tr>\n",
       "      <th>3</th>\n",
       "      <td>1279900258736</td>\n",
       "      <td>92</td>\n",
       "      <td>32992</td>\n",
       "      <td>774301</td>\n",
       "      <td>2024-06-10T16:39:36.000Z</td>\n",
       "      <td>2</td>\n",
       "      <td>2</td>\n",
       "      <td>CommandAndControl</td>\n",
       "      <td>NaN</td>\n",
       "      <td>BenignPositive</td>\n",
       "      <td>...</td>\n",
       "      <td>NaN</td>\n",
       "      <td>NaN</td>\n",
       "      <td>5</td>\n",
       "      <td>66</td>\n",
       "      <td>NaN</td>\n",
       "      <td>Suspicious</td>\n",
       "      <td>Suspicious</td>\n",
       "      <td>242</td>\n",
       "      <td>1445</td>\n",
       "      <td>10630</td>\n",
       "    </tr>\n",
       "    <tr>\n",
       "      <th>4</th>\n",
       "      <td>214748368522</td>\n",
       "      <td>148</td>\n",
       "      <td>4359</td>\n",
       "      <td>188041</td>\n",
       "      <td>2024-06-15T01:08:07.000Z</td>\n",
       "      <td>9</td>\n",
       "      <td>74</td>\n",
       "      <td>Execution</td>\n",
       "      <td>NaN</td>\n",
       "      <td>TruePositive</td>\n",
       "      <td>...</td>\n",
       "      <td>NaN</td>\n",
       "      <td>NaN</td>\n",
       "      <td>5</td>\n",
       "      <td>66</td>\n",
       "      <td>NaN</td>\n",
       "      <td>NaN</td>\n",
       "      <td>NaN</td>\n",
       "      <td>242</td>\n",
       "      <td>1445</td>\n",
       "      <td>10630</td>\n",
       "    </tr>\n",
       "  </tbody>\n",
       "</table>\n",
       "<p>5 rows × 45 columns</p>\n",
       "</div>"
      ],
      "text/plain": [
       "              Id  OrgId  IncidentId  AlertId                 Timestamp  \\\n",
       "0   180388628218      0         612   123247  2024-06-04T06:05:15.000Z   \n",
       "1   455266534868     88         326   210035  2024-06-14T03:01:25.000Z   \n",
       "2  1056561957389    809       58352   712507  2024-06-13T04:52:55.000Z   \n",
       "3  1279900258736     92       32992   774301  2024-06-10T16:39:36.000Z   \n",
       "4   214748368522    148        4359   188041  2024-06-15T01:08:07.000Z   \n",
       "\n",
       "   DetectorId  AlertTitle           Category MitreTechniques   IncidentGrade  \\\n",
       "0           7           6      InitialAccess             NaN    TruePositive   \n",
       "1          58          43       Exfiltration             NaN   FalsePositive   \n",
       "2         423         298      InitialAccess           T1189   FalsePositive   \n",
       "3           2           2  CommandAndControl             NaN  BenignPositive   \n",
       "4           9          74          Execution             NaN    TruePositive   \n",
       "\n",
       "   ... ResourceType Roles OSFamily OSVersion  AntispamDirection  \\\n",
       "0  ...          NaN   NaN        5        66                NaN   \n",
       "1  ...          NaN   NaN        5        66                NaN   \n",
       "2  ...          NaN   NaN        5        66                NaN   \n",
       "3  ...          NaN   NaN        5        66                NaN   \n",
       "4  ...          NaN   NaN        5        66                NaN   \n",
       "\n",
       "   SuspicionLevel  LastVerdict  CountryCode  State   City  \n",
       "0             NaN          NaN           31      6      3  \n",
       "1             NaN          NaN          242   1445  10630  \n",
       "2      Suspicious   Suspicious          242   1445  10630  \n",
       "3      Suspicious   Suspicious          242   1445  10630  \n",
       "4             NaN          NaN          242   1445  10630  \n",
       "\n",
       "[5 rows x 45 columns]"
      ]
     },
     "execution_count": 8,
     "metadata": {},
     "output_type": "execute_result"
    }
   ],
   "source": [
    "train_df.head()"
   ]
  },
  {
   "cell_type": "code",
   "execution_count": 9,
   "metadata": {},
   "outputs": [
    {
     "data": {
      "text/plain": [
       "Id                          0\n",
       "OrgId                       0\n",
       "IncidentId                  0\n",
       "AlertId                     0\n",
       "Timestamp                   0\n",
       "DetectorId                  0\n",
       "AlertTitle                  0\n",
       "Category                    0\n",
       "MitreTechniques       5468386\n",
       "IncidentGrade           51340\n",
       "ActionGrouped         9460773\n",
       "ActionGranular        9460773\n",
       "EntityType                  0\n",
       "EvidenceRole                0\n",
       "DeviceId                    0\n",
       "Sha256                      0\n",
       "IpAddress                   0\n",
       "Url                         0\n",
       "AccountSid                  0\n",
       "AccountUpn                  0\n",
       "AccountObjectId             0\n",
       "AccountName                 0\n",
       "DeviceName                  0\n",
       "NetworkMessageId            0\n",
       "EmailClusterId        9420025\n",
       "RegistryKey                 0\n",
       "RegistryValueName           0\n",
       "RegistryValueData           0\n",
       "ApplicationId               0\n",
       "ApplicationName             0\n",
       "OAuthApplicationId          0\n",
       "ThreatFamily          9441956\n",
       "FileName                    0\n",
       "FolderPath                  0\n",
       "ResourceIdName              0\n",
       "ResourceType          9509762\n",
       "Roles                 9298686\n",
       "OSFamily                    0\n",
       "OSVersion                   0\n",
       "AntispamDirection     9339535\n",
       "SuspicionLevel        8072708\n",
       "LastVerdict           7282572\n",
       "CountryCode                 0\n",
       "State                       0\n",
       "City                        0\n",
       "dtype: int64"
      ]
     },
     "execution_count": 9,
     "metadata": {},
     "output_type": "execute_result"
    }
   ],
   "source": [
    "train_df.isna().sum()"
   ]
  },
  {
   "cell_type": "code",
   "execution_count": 10,
   "metadata": {},
   "outputs": [
    {
     "data": {
      "text/plain": [
       "Id                          0\n",
       "OrgId                       1\n",
       "IncidentId                  1\n",
       "AlertId                     1\n",
       "Timestamp                   1\n",
       "DetectorId                  1\n",
       "AlertTitle                  1\n",
       "Category                    1\n",
       "MitreTechniques       1630051\n",
       "IncidentGrade               1\n",
       "ActionGrouped         2928837\n",
       "ActionGranular        2928837\n",
       "EntityType                  1\n",
       "EvidenceRole                1\n",
       "DeviceId                    1\n",
       "Sha256                      1\n",
       "IpAddress                   1\n",
       "Url                         1\n",
       "AccountSid                  1\n",
       "AccountUpn                  1\n",
       "AccountObjectId             1\n",
       "AccountName                 1\n",
       "DeviceName                  1\n",
       "NetworkMessageId            1\n",
       "EmailClusterId        2900763\n",
       "RegistryKey                 1\n",
       "RegistryValueName           1\n",
       "RegistryValueData           1\n",
       "ApplicationId               1\n",
       "ApplicationName             1\n",
       "OAuthApplicationId          1\n",
       "ThreatFamily          2908058\n",
       "FileName                    1\n",
       "FolderPath                  1\n",
       "ResourceIdName              1\n",
       "ResourceType          2928098\n",
       "Roles                 2853312\n",
       "OSFamily                    1\n",
       "OSVersion                   1\n",
       "AntispamDirection     2876107\n",
       "SuspicionLevel        2471625\n",
       "LastVerdict           2229373\n",
       "CountryCode                 1\n",
       "State                       1\n",
       "City                        1\n",
       "Usage                       1\n",
       "dtype: int64"
      ]
     },
     "execution_count": 10,
     "metadata": {},
     "output_type": "execute_result"
    }
   ],
   "source": [
    "test_df.isna().sum()"
   ]
  },
  {
   "cell_type": "code",
   "execution_count": 11,
   "metadata": {},
   "outputs": [
    {
     "data": {
      "text/plain": [
       "np.int64(22559)"
      ]
     },
     "execution_count": 11,
     "metadata": {},
     "output_type": "execute_result"
    }
   ],
   "source": [
    "traindupicate_count=train_df.duplicated().sum()\n",
    "traindupicate_count"
   ]
  },
  {
   "cell_type": "code",
   "execution_count": 12,
   "metadata": {},
   "outputs": [
    {
     "data": {
      "text/plain": [
       "np.int64(57)"
      ]
     },
     "execution_count": 12,
     "metadata": {},
     "output_type": "execute_result"
    }
   ],
   "source": [
    "testduplicate_count=test_df.duplicated().sum()\n",
    "testduplicate_count"
   ]
  },
  {
   "cell_type": "code",
   "execution_count": 13,
   "metadata": {},
   "outputs": [
    {
     "data": {
      "text/plain": [
       "IncidentGrade\n",
       "BenignPositive    4110817\n",
       "TruePositive      3322713\n",
       "FalsePositive     2031967\n",
       "Name: count, dtype: int64"
      ]
     },
     "execution_count": 13,
     "metadata": {},
     "output_type": "execute_result"
    }
   ],
   "source": [
    "#Taget Variable Distribution\n",
    "train_df[\"IncidentGrade\"].value_counts()"
   ]
  },
  {
   "cell_type": "markdown",
   "metadata": {},
   "source": [
    "Data Cleaning and Preprocessing for Train Dataset"
   ]
  },
  {
   "cell_type": "code",
   "execution_count": 14,
   "metadata": {},
   "outputs": [
    {
     "data": {
      "image/png": "[encoded data removed]",
      "text/plain": [
       "<Figure size 800x600 with 1 Axes>"
      ]
     },
     "metadata": {},
     "output_type": "display_data"
    }
   ],
   "source": [
    "#plot distribution of Traget Variable\n",
    "plt.figure(figsize=(8,6))\n",
    "sns.countplot(x=train_df[\"IncidentGrade\"])\n",
    "plt.title(\"Distribution of Target Variable\")\n",
    "plt.show()"
   ]
  },
  {
   "cell_type": "code",
   "execution_count": 15,
   "metadata": {},
   "outputs": [
    {
     "name": "stdout",
     "output_type": "stream",
     "text": [
      "Percentage of missing values for each column:\n",
      "Id                     0.000000\n",
      "OrgId                  0.000000\n",
      "IncidentId             0.000000\n",
      "AlertId                0.000000\n",
      "Timestamp              0.000000\n",
      "DetectorId             0.000000\n",
      "AlertTitle             0.000000\n",
      "Category               0.000000\n",
      "MitreTechniques       57.460120\n",
      "IncidentGrade          0.539465\n",
      "ActionGrouped         99.410897\n",
      "ActionGranular        99.410897\n",
      "EntityType             0.000000\n",
      "EvidenceRole           0.000000\n",
      "DeviceId               0.000000\n",
      "Sha256                 0.000000\n",
      "IpAddress              0.000000\n",
      "Url                    0.000000\n",
      "AccountSid             0.000000\n",
      "AccountUpn             0.000000\n",
      "AccountObjectId        0.000000\n",
      "AccountName            0.000000\n",
      "DeviceName             0.000000\n",
      "NetworkMessageId       0.000000\n",
      "EmailClusterId        98.982729\n",
      "RegistryKey            0.000000\n",
      "RegistryValueName      0.000000\n",
      "RegistryValueData      0.000000\n",
      "ApplicationId          0.000000\n",
      "ApplicationName        0.000000\n",
      "OAuthApplicationId     0.000000\n",
      "ThreatFamily          99.213173\n",
      "FileName               0.000000\n",
      "FolderPath             0.000000\n",
      "ResourceIdName         0.000000\n",
      "ResourceType          99.925658\n",
      "Roles                 97.707736\n",
      "OSFamily               0.000000\n",
      "OSVersion              0.000000\n",
      "AntispamDirection     98.136965\n",
      "SuspicionLevel        84.825536\n",
      "LastVerdict           76.523030\n",
      "CountryCode            0.000000\n",
      "State                  0.000000\n",
      "City                   0.000000\n",
      "dtype: float64\n",
      "\n",
      "Columns with more than 50% missing values will be dropped:\n",
      "Index(['MitreTechniques', 'ActionGrouped', 'ActionGranular', 'EmailClusterId',\n",
      "       'ThreatFamily', 'ResourceType', 'Roles', 'AntispamDirection',\n",
      "       'SuspicionLevel', 'LastVerdict'],\n",
      "      dtype='object')\n",
      "\n",
      "Columns remaining after dropping:\n",
      "Index(['Id', 'OrgId', 'IncidentId', 'AlertId', 'Timestamp', 'DetectorId',\n",
      "       'AlertTitle', 'Category', 'IncidentGrade', 'EntityType', 'EvidenceRole',\n",
      "       'DeviceId', 'Sha256', 'IpAddress', 'Url', 'AccountSid', 'AccountUpn',\n",
      "       'AccountObjectId', 'AccountName', 'DeviceName', 'NetworkMessageId',\n",
      "       'RegistryKey', 'RegistryValueName', 'RegistryValueData',\n",
      "       'ApplicationId', 'ApplicationName', 'OAuthApplicationId', 'FileName',\n",
      "       'FolderPath', 'ResourceIdName', 'OSFamily', 'OSVersion', 'CountryCode',\n",
      "       'State', 'City'],\n",
      "      dtype='object')\n"
     ]
    }
   ],
   "source": [
    "#Drop 50% Missing Value\n",
    "\n",
    "import pandas as pd\n",
    "import numpy as np\n",
    "from sklearn.preprocessing import LabelEncoder, MinMaxScaler\n",
    "\n",
    "# Calculate the percentage of missing values for each column\n",
    "missing_percentage = train_df.isnull().sum() / len(train_df) * 100\n",
    "\n",
    "# Display the percentage of missing values\n",
    "print(\"Percentage of missing values for each column:\")\n",
    "print(missing_percentage)\n",
    "\n",
    "# List columns with more than 50% missing values\n",
    "columns_to_drop = missing_percentage[missing_percentage > 50].index\n",
    "print(\"\\nColumns with more than 50% missing values will be dropped:\")\n",
    "print(columns_to_drop)\n",
    "\n",
    "# Drop these columns from the DataFrame\n",
    "train_df.drop(columns=columns_to_drop, axis=1, inplace=True)\n",
    "\n",
    "# Confirm the result\n",
    "print(\"\\nColumns remaining after dropping:\")\n",
    "print(train_df.columns)\n"
   ]
  },
  {
   "cell_type": "code",
   "execution_count": 16,
   "metadata": {},
   "outputs": [
    {
     "name": "stdout",
     "output_type": "stream",
     "text": [
      "Imputed categorical column 'IncidentGrade' with mode value: BenignPositive\n"
     ]
    }
   ],
   "source": [
    "from sklearn.preprocessing import LabelEncoder,MinMaxScaler\n",
    "\n",
    "# Impute missing values for categorical columns\n",
    "categorical_columns = train_df.select_dtypes(include=['object','category']).columns\n",
    "for col in categorical_columns:\n",
    "    if train_df[col].isnull().any():\n",
    "        mode_val = train_df[col].mode()[0]\n",
    "        train_df[col] = train_df[col].fillna(mode_val)\n",
    "        print(f\"Imputed categorical column '{col}' with mode value: {mode_val}\")"
   ]
  },
  {
   "cell_type": "code",
   "execution_count": 17,
   "metadata": {},
   "outputs": [],
   "source": [
    "#impute Missing Values for Numerical columns\n",
    "\n",
    "numerical_columns=train_df.select_dtypes(include=['int64','float64']).columns\n",
    "for col in numerical_columns:\n",
    "    if train_df[col].isnull().any():\n",
    "        median_val=train_df[col].median()\n",
    "        train_df[col]=train_df[col].fillna(median_val)\n",
    "        print(f\"Imputed numerical column '{col}' with median value:{median_val}\" )"
   ]
  },
  {
   "cell_type": "code",
   "execution_count": 18,
   "metadata": {},
   "outputs": [],
   "source": [
    "#Interquartile Range (IQR) method\n",
    "\n",
    "def outliers(train_df, iqr_multiplier=1.5):  # Ensure 'iqr_multiplier' is a parameter\n",
    "    numeric_features = train_df.select_dtypes(include=['int32', 'int16', 'float32', 'int64', 'float64'])\n",
    "    for col in numeric_features.columns:\n",
    "        if train_df[col].nunique() > 10:\n",
    "            Q1 = numeric_features[col].quantile(0.25)\n",
    "            Q3 = numeric_features[col].quantile(0.75)\n",
    "            IQR = Q3 - Q1\n",
    "            lower_bound = Q1 - iqr_multiplier * IQR\n",
    "            upper_bound = Q3 + iqr_multiplier * IQR   \n",
    "            train_df = train_df[(train_df[col] >= lower_bound) & (train_df[col] <= upper_bound)]\n",
    "    return train_df\n",
    "\n",
    "# Usage\n",
    "train_df = outliers(train_df, iqr_multiplier=1.5)\n"
   ]
  },
  {
   "cell_type": "code",
   "execution_count": 19,
   "metadata": {},
   "outputs": [],
   "source": [
    "#Feature Engineering\n",
    "train_df[\"Timestamp\"]= pd.to_datetime(train_df['Timestamp'], errors='coerce')\n",
    "train_df[\"Year\"]=train_df[\"Timestamp\"].dt.year\n",
    "train_df[\"Month\"]=train_df[\"Timestamp\"].dt.month\n",
    "train_df[\"DayOfWeek\"]=train_df[\"Timestamp\"].dt.dayofweek\n",
    "train_df[\"Hour\"]=train_df[\"Timestamp\"].dt.hour\n",
    "\n",
    "#Drop the \"Timestamp\" column\n",
    "train_df.drop(columns=[\"Timestamp\"], inplace=True)"
   ]
  },
  {
   "cell_type": "code",
   "execution_count": 20,
   "metadata": {},
   "outputs": [
    {
     "data": {
      "text/plain": [
       "Index(['Id', 'OrgId', 'IncidentId', 'AlertId', 'DetectorId', 'AlertTitle',\n",
       "       'Category', 'IncidentGrade', 'EntityType', 'EvidenceRole', 'DeviceId',\n",
       "       'Sha256', 'IpAddress', 'Url', 'AccountSid', 'AccountUpn',\n",
       "       'AccountObjectId', 'AccountName', 'DeviceName', 'NetworkMessageId',\n",
       "       'RegistryKey', 'RegistryValueName', 'RegistryValueData',\n",
       "       'ApplicationId', 'ApplicationName', 'OAuthApplicationId', 'FileName',\n",
       "       'FolderPath', 'ResourceIdName', 'OSFamily', 'OSVersion', 'CountryCode',\n",
       "       'State', 'City', 'Year', 'Month', 'DayOfWeek', 'Hour'],\n",
       "      dtype='object')"
      ]
     },
     "execution_count": 20,
     "metadata": {},
     "output_type": "execute_result"
    }
   ],
   "source": [
    "train_df.columns"
   ]
  },
  {
   "cell_type": "code",
   "execution_count": 21,
   "metadata": {},
   "outputs": [],
   "source": [
    "id_columns = ['Id', 'OrgId', 'IncidentId', 'AlertId', 'DetectorId', 'DeviceId', 'Sha256', \n",
    "              'IpAddress', 'Url', 'AccountSid', 'AccountUpn', 'AccountObjectId', 'AccountName', \n",
    "              'DeviceName', 'NetworkMessageId',  'RegistryKey', 'RegistryValueName', \n",
    "              'RegistryValueData', 'ApplicationId', 'ApplicationName', 'OAuthApplicationId', \n",
    "              'FileName', 'FolderPath', 'ResourceIdName','OSFamily', 'OSVersion', 'City','CountryCode', 'State']\n",
    "\n",
    "# Exclude ID columns from scaling\n",
    "numeric_features = train_df.select_dtypes(include=['int32', 'int16', 'float32', 'int64']).drop(columns=id_columns, errors='ignore')\n",
    "\n",
    "# Scaling numerical features \n",
    "scaler = MinMaxScaler()\n",
    "train_df[numeric_features.columns] = scaler.fit_transform(numeric_features)"
   ]
  },
  {
   "cell_type": "code",
   "execution_count": 23,
   "metadata": {},
   "outputs": [],
   "source": [
    "\n",
    "# categorical columns\n",
    "label_encoder = LabelEncoder()\n",
    "categorical_columns = ['Category', 'IncidentGrade', 'EntityType', 'EvidenceRole']\n",
    "\n",
    "for col in categorical_columns:\n",
    "    if col in train_df.columns:\n",
    "        train_df[col] = label_encoder.fit_transform(train_df[col].astype(str))  # Convert to string if necessary"
   ]
  },
  {
   "cell_type": "code",
   "execution_count": 24,
   "metadata": {},
   "outputs": [],
   "source": [
    "# Remove duplicate rows\n",
    "train_df.drop_duplicates(inplace=True)"
   ]
  },
  {
   "cell_type": "code",
   "execution_count": 25,
   "metadata": {},
   "outputs": [
    {
     "name": "stdout",
     "output_type": "stream",
     "text": [
      "Data preprocessing complete and saved.\n"
     ]
    }
   ],
   "source": [
    "# Save\n",
    "path = r\"C:\\\\Users\\\\prem\\\\Desktop\\\\Ranjana\\\\4.Classifying Cybersecurity\\\\Cleaned_dataset\\\\Train_dataset.csv\"\n",
    "train_df.to_csv(path, index=False)\n",
    "print(\"Data preprocessing complete and saved.\")"
   ]
  },
  {
   "cell_type": "code",
   "execution_count": 31,
   "metadata": {},
   "outputs": [],
   "source": [
    "test_df=pd.read_csv(\"C:\\\\Users\\\\prem\\\\Desktop\\\\Ranjana\\\\4.Classifying Cybersecurity\\\\GUIDE_Test.csv\")"
   ]
  },
  {
   "cell_type": "code",
   "execution_count": 32,
   "metadata": {},
   "outputs": [
    {
     "name": "stdout",
     "output_type": "stream",
     "text": [
      "\n",
      "Number of duplicate rows in the dataset: 57\n"
     ]
    }
   ],
   "source": [
    "# Check for duplicate rows\n",
    "duplicate_count = test_df.duplicated().sum()\n",
    "print(\"\\nNumber of duplicate rows in the dataset:\", duplicate_count)"
   ]
  },
  {
   "cell_type": "code",
   "execution_count": 33,
   "metadata": {},
   "outputs": [
    {
     "name": "stdout",
     "output_type": "stream",
     "text": [
      "\n",
      "Target variable distribution:\n",
      "IncidentGrade\n",
      "BenignPositive    1238258\n",
      "TruePositive      1054264\n",
      "FalsePositive      637684\n",
      "Name: count, dtype: int64\n"
     ]
    }
   ],
   "source": [
    "# Target variable distribution\n",
    "print(\"\\nTarget variable distribution:\")\n",
    "print(test_df['IncidentGrade'].value_counts())"
   ]
  },
  {
   "cell_type": "code",
   "execution_count": 34,
   "metadata": {},
   "outputs": [
    {
     "data": {
      "image/png": "[encoded data removed]",
      "text/plain": [
       "<Figure size 800x600 with 1 Axes>"
      ]
     },
     "metadata": {},
     "output_type": "display_data"
    }
   ],
   "source": [
    "plt.figure(figsize=(8, 6))\n",
    "sns.countplot(x=test_df['IncidentGrade'])\n",
    "plt.title('Distribution of Target Variable')\n",
    "plt.show()"
   ]
  },
  {
   "cell_type": "markdown",
   "metadata": {},
   "source": [
    "Data Cleaning and Preprocessing for Test Dataset"
   ]
  },
  {
   "cell_type": "code",
   "execution_count": 35,
   "metadata": {},
   "outputs": [
    {
     "name": "stdout",
     "output_type": "stream",
     "text": [
      "Percentage of missing values for each column:\n",
      "Id                     0.000000\n",
      "OrgId                  0.000034\n",
      "IncidentId             0.000034\n",
      "AlertId                0.000034\n",
      "Timestamp              0.000034\n",
      "DetectorId             0.000034\n",
      "AlertTitle             0.000034\n",
      "Category               0.000034\n",
      "MitreTechniques       55.629210\n",
      "IncidentGrade          0.000034\n",
      "ActionGrouped         99.953246\n",
      "ActionGranular        99.953246\n",
      "EntityType             0.000034\n",
      "EvidenceRole           0.000034\n",
      "DeviceId               0.000034\n",
      "Sha256                 0.000034\n",
      "IpAddress              0.000034\n",
      "Url                    0.000034\n",
      "AccountSid             0.000034\n",
      "AccountUpn             0.000034\n",
      "AccountObjectId        0.000034\n",
      "AccountName            0.000034\n",
      "DeviceName             0.000034\n",
      "NetworkMessageId       0.000034\n",
      "EmailClusterId        98.995156\n",
      "RegistryKey            0.000034\n",
      "RegistryValueName      0.000034\n",
      "RegistryValueData      0.000034\n",
      "ApplicationId          0.000034\n",
      "ApplicationName        0.000034\n",
      "OAuthApplicationId     0.000034\n",
      "ThreatFamily          99.244115\n",
      "FileName               0.000034\n",
      "FolderPath             0.000034\n",
      "ResourceIdName         0.000034\n",
      "ResourceType          99.928026\n",
      "Roles                 97.375783\n",
      "OSFamily               0.000034\n",
      "OSVersion              0.000034\n",
      "AntispamDirection     98.153714\n",
      "SuspicionLevel        84.349843\n",
      "LastVerdict           76.082441\n",
      "CountryCode            0.000034\n",
      "State                  0.000034\n",
      "City                   0.000034\n",
      "Usage                  0.000034\n",
      "dtype: float64\n",
      "\n",
      "Columns with more than 50% missing values will be dropped:\n",
      "Index(['MitreTechniques', 'ActionGrouped', 'ActionGranular', 'EmailClusterId',\n",
      "       'ThreatFamily', 'ResourceType', 'Roles', 'AntispamDirection',\n",
      "       'SuspicionLevel', 'LastVerdict'],\n",
      "      dtype='object')\n",
      "\n",
      "Columns remaining after dropping:\n",
      "Index(['Id', 'OrgId', 'IncidentId', 'AlertId', 'Timestamp', 'DetectorId',\n",
      "       'AlertTitle', 'Category', 'IncidentGrade', 'EntityType', 'EvidenceRole',\n",
      "       'DeviceId', 'Sha256', 'IpAddress', 'Url', 'AccountSid', 'AccountUpn',\n",
      "       'AccountObjectId', 'AccountName', 'DeviceName', 'NetworkMessageId',\n",
      "       'RegistryKey', 'RegistryValueName', 'RegistryValueData',\n",
      "       'ApplicationId', 'ApplicationName', 'OAuthApplicationId', 'FileName',\n",
      "       'FolderPath', 'ResourceIdName', 'OSFamily', 'OSVersion', 'CountryCode',\n",
      "       'State', 'City', 'Usage'],\n",
      "      dtype='object')\n"
     ]
    }
   ],
   "source": [
    "#Drop 50% Missing Value\n",
    "import pandas as pd\n",
    "import numpy as np\n",
    "from sklearn.preprocessing import LabelEncoder, MinMaxScaler\n",
    "\n",
    "# Calculate the percentage of missing values for each column\n",
    "missing_percentage = test_df.isnull().sum() / len(test_df) * 100\n",
    "\n",
    "# Display the percentage of missing values\n",
    "print(\"Percentage of missing values for each column:\")\n",
    "print(missing_percentage)\n",
    "\n",
    "# List columns with more than 50% missing values\n",
    "columns_to_drop = missing_percentage[missing_percentage > 50].index\n",
    "print(\"\\nColumns with more than 50% missing values will be dropped:\")\n",
    "print(columns_to_drop)\n",
    "\n",
    "# Drop these columns from the DataFrame\n",
    "test_df.drop(columns=columns_to_drop, axis=1, inplace=True)\n",
    "\n",
    "# Confirm the result\n",
    "print(\"\\nColumns remaining after dropping:\")\n",
    "print(test_df.columns)"
   ]
  },
  {
   "cell_type": "code",
   "execution_count": 36,
   "metadata": {},
   "outputs": [
    {
     "name": "stdout",
     "output_type": "stream",
     "text": [
      "Imputed numeric column 'OrgId' with median value: 43.0\n",
      "Imputed numeric column 'IncidentId' with median value: 8819.0\n",
      "Imputed numeric column 'AlertId' with median value: 223178.0\n",
      "Imputed numeric column 'DetectorId' with median value: 7.0\n",
      "Imputed numeric column 'AlertTitle' with median value: 9.0\n",
      "Imputed numeric column 'DeviceId' with median value: 98799.0\n",
      "Imputed numeric column 'Sha256' with median value: 138268.0\n",
      "Imputed numeric column 'IpAddress' with median value: 360606.0\n",
      "Imputed numeric column 'Url' with median value: 160396.0\n",
      "Imputed numeric column 'AccountSid' with median value: 441377.0\n",
      "Imputed numeric column 'AccountUpn' with median value: 673934.0\n",
      "Imputed numeric column 'AccountObjectId' with median value: 425863.0\n",
      "Imputed numeric column 'AccountName' with median value: 453297.0\n",
      "Imputed numeric column 'DeviceName' with median value: 153085.0\n",
      "Imputed numeric column 'NetworkMessageId' with median value: 529644.0\n",
      "Imputed numeric column 'RegistryKey' with median value: 1631.0\n",
      "Imputed numeric column 'RegistryValueName' with median value: 635.0\n",
      "Imputed numeric column 'RegistryValueData' with median value: 860.0\n",
      "Imputed numeric column 'ApplicationId' with median value: 2251.0\n",
      "Imputed numeric column 'ApplicationName' with median value: 3421.0\n",
      "Imputed numeric column 'OAuthApplicationId' with median value: 881.0\n",
      "Imputed numeric column 'FileName' with median value: 289573.0\n",
      "Imputed numeric column 'FolderPath' with median value: 117668.0\n",
      "Imputed numeric column 'ResourceIdName' with median value: 3586.0\n",
      "Imputed numeric column 'OSFamily' with median value: 5.0\n",
      "Imputed numeric column 'OSVersion' with median value: 66.0\n",
      "Imputed numeric column 'CountryCode' with median value: 242.0\n",
      "Imputed numeric column 'State' with median value: 1445.0\n",
      "Imputed numeric column 'City' with median value: 10630.0\n",
      "Imputed categorical column 'Timestamp' with mode value: 2024-06-11T22:02:45.000Z\n",
      "Imputed categorical column 'Category' with mode value: InitialAccess\n",
      "Imputed categorical column 'IncidentGrade' with mode value: BenignPositive\n",
      "Imputed categorical column 'EntityType' with mode value: Ip\n",
      "Imputed categorical column 'EvidenceRole' with mode value: Related\n",
      "Imputed categorical column 'Usage' with mode value: Public\n"
     ]
    }
   ],
   "source": [
    "# Impute missing values for numeric columns\n",
    "numeric_columns = test_df.select_dtypes(include=['int64','float64']).columns\n",
    "for col in numeric_columns:\n",
    "    if test_df[col].isnull().any():\n",
    "        median_val = test_df[col].median()\n",
    "        test_df[col] = test_df[col].fillna(median_val)\n",
    "        print(f\"Imputed numeric column '{col}' with median value: {median_val}\")\n",
    "\n",
    "# Impute missing values for categorical columns\n",
    "categorical_columns = test_df.select_dtypes(include=['object']).columns\n",
    "for col in categorical_columns:\n",
    "    if test_df[col].isnull().any():\n",
    "        mode_val = test_df[col].mode()[0]\n",
    "        test_df[col] = test_df[col].fillna(mode_val)\n",
    "        print(f\"Imputed categorical column '{col}' with mode value: {mode_val}\")"
   ]
  },
  {
   "cell_type": "code",
   "execution_count": 37,
   "metadata": {},
   "outputs": [],
   "source": [
    "# Handling Outliers\n",
    "def outliers(test_df, iqr_multiplier=1.5):\n",
    "    numeric_features = test_df.select_dtypes(include=['int64','float64'])\n",
    "    for col in numeric_features.columns:\n",
    "        Q1 = numeric_features[col].quantile(0.25)\n",
    "        Q3 = numeric_features[col].quantile(0.75)\n",
    "        IQR = Q3 - Q1\n",
    "        lower_bound = Q1 - iqr_multiplier * IQR\n",
    "        upper_bound = Q3 + iqr_multiplier * IQR\n",
    "            \n",
    "        test_df = test_df[(test_df[col] >= lower_bound) & (test_df[col] <= upper_bound)]\n",
    "    return test_df\n",
    "\n",
    "# Usage\n",
    "test_df = outliers(test_df, iqr_multiplier=1.5)  # Adjusting the IQR multiplier if necessary"
   ]
  },
  {
   "cell_type": "code",
   "execution_count": 38,
   "metadata": {},
   "outputs": [],
   "source": [
    "# Feature Engineering: Extracting datetime features\n",
    "test_df['Timestamp'] = pd.to_datetime(test_df['Timestamp'], errors='coerce')\n",
    "test_df['Year'] = test_df['Timestamp'].dt.year\n",
    "test_df['Month'] = test_df['Timestamp'].dt.month\n",
    "test_df['DayOfWeek'] = test_df['Timestamp'].dt.dayofweek\n",
    "test_df['Hour'] = test_df['Timestamp'].dt.hour\n",
    "\n",
    "# Drop the 'Timestamp' and 'Usage'column\n",
    "test_df.drop(columns=['Timestamp','Usage'], inplace=True)"
   ]
  },
  {
   "cell_type": "code",
   "execution_count": 39,
   "metadata": {},
   "outputs": [
    {
     "data": {
      "text/plain": [
       "Index(['Id', 'OrgId', 'IncidentId', 'AlertId', 'DetectorId', 'AlertTitle',\n",
       "       'Category', 'IncidentGrade', 'EntityType', 'EvidenceRole', 'DeviceId',\n",
       "       'Sha256', 'IpAddress', 'Url', 'AccountSid', 'AccountUpn',\n",
       "       'AccountObjectId', 'AccountName', 'DeviceName', 'NetworkMessageId',\n",
       "       'RegistryKey', 'RegistryValueName', 'RegistryValueData',\n",
       "       'ApplicationId', 'ApplicationName', 'OAuthApplicationId', 'FileName',\n",
       "       'FolderPath', 'ResourceIdName', 'OSFamily', 'OSVersion', 'CountryCode',\n",
       "       'State', 'City', 'Year', 'Month', 'DayOfWeek', 'Hour'],\n",
       "      dtype='object')"
      ]
     },
     "execution_count": 39,
     "metadata": {},
     "output_type": "execute_result"
    }
   ],
   "source": [
    "test_df.columns"
   ]
  },
  {
   "cell_type": "code",
   "execution_count": 40,
   "metadata": {},
   "outputs": [],
   "source": [
    "# Exclude ID columns from scaling\n",
    "numeric_features = test_df.select_dtypes(include=['int32', 'int16', 'float32', 'int64','float64']).drop(columns=id_columns, errors='ignore')"
   ]
  },
  {
   "cell_type": "code",
   "execution_count": 41,
   "metadata": {},
   "outputs": [],
   "source": [
    "# Scaling numerical features \n",
    "scaler = MinMaxScaler()\n",
    "test_df[numeric_features.columns] = scaler.fit_transform(numeric_features)\n",
    "\n",
    "# categorical columns\n",
    "label_encoder = LabelEncoder()\n",
    "categorical_columns = ['Category', 'IncidentGrade', 'EntityType', 'EvidenceRole']\n",
    "\n",
    "for col in categorical_columns:\n",
    "    if col in test_df.columns:\n",
    "        test_df[col] = label_encoder.fit_transform(test_df[col].astype(str))  # Convert to string if necessary"
   ]
  },
  {
   "cell_type": "code",
   "execution_count": 42,
   "metadata": {},
   "outputs": [],
   "source": [
    "# Remove duplicate rows\n",
    "test_df.drop_duplicates(inplace=True)"
   ]
  },
  {
   "cell_type": "code",
   "execution_count": 43,
   "metadata": {},
   "outputs": [
    {
     "name": "stdout",
     "output_type": "stream",
     "text": [
      "Data preprocessing complete and saved.\n"
     ]
    }
   ],
   "source": [
    "# Save\n",
    "path = r\"C:\\\\Users\\\\prem\\\\Desktop\\\\Ranjana\\\\4.Classifying Cybersecurity\\\\Cleaned_dataset\\\\Test_dataset.csv\"\n",
    "test_df.to_csv(path, index=False)\n",
    "print(\"Data preprocessing complete and saved.\")"
   ]
  }
 ],
 "metadata": {
  "kernelspec": {
   "display_name": "Python 3",
   "language": "python",
   "name": "python3"
  },
  "language_info": {
   "codemirror_mode": {
    "name": "ipython",
    "version": 3
   },
   "file_extension": ".py",
   "mimetype": "text/x-python",
   "name": "python",
   "nbconvert_exporter": "python",
   "pygments_lexer": "ipython3",
   "version": "3.12.5"
  }
 },
 "nbformat": 4,
 "nbformat_minor": 2
}
